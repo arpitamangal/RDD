{
  "cells": [
    {
      "cell_type": "markdown",
      "source": [
        "[![Open In Colab](https://colab.research.google.com/assets/colab-badge.svg)](https://colab.research.google.com/github/googlecolab/colabtools/blob/master/notebooks/colab-github-demo.ipynb)"
      ],
      "metadata": {
        "id": "sN4FGZPQlCK8"
      },
      "id": "sN4FGZPQlCK8"
    },
    {
      "cell_type": "code",
      "execution_count": null,
      "id": "290f30a2",
      "metadata": {
        "id": "290f30a2"
      },
      "outputs": [],
      "source": [
        "#display all the outputs\n",
        "from IPython.core.interactiveshell import InteractiveShell\n",
        "InteractiveShell.ast_node_interactivity = \"all\""
      ]
    },
    {
      "cell_type": "markdown",
      "id": "dc0da88f",
      "metadata": {
        "id": "dc0da88f"
      },
      "source": [
        "## Regression Discontinuity Design (RDD)\n",
        "“Should the legal age for drinking be reduced from 21?”\n",
        "\n",
        "Keeping 21 as the threshold for age, compare the average to one side of the threshold minus average to the other side to determine if alcohol increases the chances of death by accident, suicide and/or others."
      ]
    },
    {
      "cell_type": "code",
      "execution_count": null,
      "id": "7b59488c",
      "metadata": {
        "colab": {
          "base_uri": "https://localhost:8080/",
          "height": 224
        },
        "id": "7b59488c",
        "outputId": "27260677-d47e-424a-9aaf-19acf847ef99"
      },
      "outputs": [
        {
          "output_type": "execute_result",
          "data": {
            "text/plain": [
              "(50, 4)"
            ]
          },
          "metadata": {},
          "execution_count": 3
        },
        {
          "output_type": "execute_result",
          "data": {
            "text/plain": [
              "         age     others   accident    suicide\n",
              "0  19.068493  92.825401  35.829327  11.203714\n",
              "1  19.150684  95.100739  35.639256  12.193368\n",
              "2  19.232876  92.144295  34.205650  11.715812\n",
              "3  19.315069  88.427757  32.278957  11.275010\n",
              "4  19.397261  88.704941  32.650967  10.984314"
            ],
            "text/html": [
              "\n",
              "  <div id=\"df-66a2b0f5-6f16-477a-ac29-a115d6968a84\">\n",
              "    <div class=\"colab-df-container\">\n",
              "      <div>\n",
              "<style scoped>\n",
              "    .dataframe tbody tr th:only-of-type {\n",
              "        vertical-align: middle;\n",
              "    }\n",
              "\n",
              "    .dataframe tbody tr th {\n",
              "        vertical-align: top;\n",
              "    }\n",
              "\n",
              "    .dataframe thead th {\n",
              "        text-align: right;\n",
              "    }\n",
              "</style>\n",
              "<table border=\"1\" class=\"dataframe\">\n",
              "  <thead>\n",
              "    <tr style=\"text-align: right;\">\n",
              "      <th></th>\n",
              "      <th>age</th>\n",
              "      <th>others</th>\n",
              "      <th>accident</th>\n",
              "      <th>suicide</th>\n",
              "    </tr>\n",
              "  </thead>\n",
              "  <tbody>\n",
              "    <tr>\n",
              "      <th>0</th>\n",
              "      <td>19.068493</td>\n",
              "      <td>92.825401</td>\n",
              "      <td>35.829327</td>\n",
              "      <td>11.203714</td>\n",
              "    </tr>\n",
              "    <tr>\n",
              "      <th>1</th>\n",
              "      <td>19.150684</td>\n",
              "      <td>95.100739</td>\n",
              "      <td>35.639256</td>\n",
              "      <td>12.193368</td>\n",
              "    </tr>\n",
              "    <tr>\n",
              "      <th>2</th>\n",
              "      <td>19.232876</td>\n",
              "      <td>92.144295</td>\n",
              "      <td>34.205650</td>\n",
              "      <td>11.715812</td>\n",
              "    </tr>\n",
              "    <tr>\n",
              "      <th>3</th>\n",
              "      <td>19.315069</td>\n",
              "      <td>88.427757</td>\n",
              "      <td>32.278957</td>\n",
              "      <td>11.275010</td>\n",
              "    </tr>\n",
              "    <tr>\n",
              "      <th>4</th>\n",
              "      <td>19.397261</td>\n",
              "      <td>88.704941</td>\n",
              "      <td>32.650967</td>\n",
              "      <td>10.984314</td>\n",
              "    </tr>\n",
              "  </tbody>\n",
              "</table>\n",
              "</div>\n",
              "      <button class=\"colab-df-convert\" onclick=\"convertToInteractive('df-66a2b0f5-6f16-477a-ac29-a115d6968a84')\"\n",
              "              title=\"Convert this dataframe to an interactive table.\"\n",
              "              style=\"display:none;\">\n",
              "        \n",
              "  <svg xmlns=\"http://www.w3.org/2000/svg\" height=\"24px\"viewBox=\"0 0 24 24\"\n",
              "       width=\"24px\">\n",
              "    <path d=\"M0 0h24v24H0V0z\" fill=\"none\"/>\n",
              "    <path d=\"M18.56 5.44l.94 2.06.94-2.06 2.06-.94-2.06-.94-.94-2.06-.94 2.06-2.06.94zm-11 1L8.5 8.5l.94-2.06 2.06-.94-2.06-.94L8.5 2.5l-.94 2.06-2.06.94zm10 10l.94 2.06.94-2.06 2.06-.94-2.06-.94-.94-2.06-.94 2.06-2.06.94z\"/><path d=\"M17.41 7.96l-1.37-1.37c-.4-.4-.92-.59-1.43-.59-.52 0-1.04.2-1.43.59L10.3 9.45l-7.72 7.72c-.78.78-.78 2.05 0 2.83L4 21.41c.39.39.9.59 1.41.59.51 0 1.02-.2 1.41-.59l7.78-7.78 2.81-2.81c.8-.78.8-2.07 0-2.86zM5.41 20L4 18.59l7.72-7.72 1.47 1.35L5.41 20z\"/>\n",
              "  </svg>\n",
              "      </button>\n",
              "      \n",
              "  <style>\n",
              "    .colab-df-container {\n",
              "      display:flex;\n",
              "      flex-wrap:wrap;\n",
              "      gap: 12px;\n",
              "    }\n",
              "\n",
              "    .colab-df-convert {\n",
              "      background-color: #E8F0FE;\n",
              "      border: none;\n",
              "      border-radius: 50%;\n",
              "      cursor: pointer;\n",
              "      display: none;\n",
              "      fill: #1967D2;\n",
              "      height: 32px;\n",
              "      padding: 0 0 0 0;\n",
              "      width: 32px;\n",
              "    }\n",
              "\n",
              "    .colab-df-convert:hover {\n",
              "      background-color: #E2EBFA;\n",
              "      box-shadow: 0px 1px 2px rgba(60, 64, 67, 0.3), 0px 1px 3px 1px rgba(60, 64, 67, 0.15);\n",
              "      fill: #174EA6;\n",
              "    }\n",
              "\n",
              "    [theme=dark] .colab-df-convert {\n",
              "      background-color: #3B4455;\n",
              "      fill: #D2E3FC;\n",
              "    }\n",
              "\n",
              "    [theme=dark] .colab-df-convert:hover {\n",
              "      background-color: #434B5C;\n",
              "      box-shadow: 0px 1px 3px 1px rgba(0, 0, 0, 0.15);\n",
              "      filter: drop-shadow(0px 1px 2px rgba(0, 0, 0, 0.3));\n",
              "      fill: #FFFFFF;\n",
              "    }\n",
              "  </style>\n",
              "\n",
              "      <script>\n",
              "        const buttonEl =\n",
              "          document.querySelector('#df-66a2b0f5-6f16-477a-ac29-a115d6968a84 button.colab-df-convert');\n",
              "        buttonEl.style.display =\n",
              "          google.colab.kernel.accessAllowed ? 'block' : 'none';\n",
              "\n",
              "        async function convertToInteractive(key) {\n",
              "          const element = document.querySelector('#df-66a2b0f5-6f16-477a-ac29-a115d6968a84');\n",
              "          const dataTable =\n",
              "            await google.colab.kernel.invokeFunction('convertToInteractive',\n",
              "                                                     [key], {});\n",
              "          if (!dataTable) return;\n",
              "\n",
              "          const docLinkHtml = 'Like what you see? Visit the ' +\n",
              "            '<a target=\"_blank\" href=https://colab.research.google.com/notebooks/data_table.ipynb>data table notebook</a>'\n",
              "            + ' to learn more about interactive tables.';\n",
              "          element.innerHTML = '';\n",
              "          dataTable['output_type'] = 'display_data';\n",
              "          await google.colab.output.renderOutput(dataTable, element);\n",
              "          const docLink = document.createElement('div');\n",
              "          docLink.innerHTML = docLinkHtml;\n",
              "          element.appendChild(docLink);\n",
              "        }\n",
              "      </script>\n",
              "    </div>\n",
              "  </div>\n",
              "  "
            ]
          },
          "metadata": {},
          "execution_count": 3
        }
      ],
      "source": [
        "import pandas as pd\n",
        "import numpy as np\n",
        "drinking = pd.read_csv(\"drinking.csv\")\n",
        "drinking.shape\n",
        "drinking.head()"
      ]
    },
    {
      "cell_type": "markdown",
      "source": [
        " choosing the bandwidth to be 1 year (i.e., 21 +- 1)."
      ],
      "metadata": {
        "id": "GqI472il2dM4"
      },
      "id": "GqI472il2dM4"
    },
    {
      "cell_type": "code",
      "execution_count": null,
      "id": "844e1d24",
      "metadata": {
        "id": "844e1d24"
      },
      "outputs": [],
      "source": [
        "Under_21 = drinking[(drinking['age'] >= 20) & (drinking['age'] < 21)]\n",
        "Above_21 = drinking[(drinking['age'] >= 21) & (drinking['age'] < 22)]"
      ]
    },
    {
      "cell_type": "code",
      "execution_count": null,
      "id": "e159e592",
      "metadata": {
        "colab": {
          "base_uri": "https://localhost:8080/"
        },
        "id": "e159e592",
        "outputId": "2591ae16-f929-4543-affb-6ea43deba2fd"
      },
      "outputs": [
        {
          "output_type": "execute_result",
          "data": {
            "text/plain": [
              "(13, 4)"
            ]
          },
          "metadata": {},
          "execution_count": 5
        },
        {
          "output_type": "execute_result",
          "data": {
            "text/plain": [
              "(13, 4)"
            ]
          },
          "metadata": {},
          "execution_count": 5
        }
      ],
      "source": [
        "Under_21.shape\n",
        "Above_21.shape"
      ]
    },
    {
      "cell_type": "code",
      "execution_count": null,
      "id": "8bd6477f",
      "metadata": {
        "colab": {
          "base_uri": "https://localhost:8080/"
        },
        "id": "8bd6477f",
        "outputId": "8d1ff881-fade-47ee-f5ed-1dce7f59bdc2"
      },
      "outputs": [
        {
          "output_type": "execute_result",
          "data": {
            "text/plain": [
              "age         20.544783\n",
              "others      93.318850\n",
              "accident    31.296563\n",
              "suicide     11.642920\n",
              "dtype: float64"
            ]
          },
          "metadata": {},
          "execution_count": 7
        }
      ],
      "source": [
        "Under_21.mean()"
      ]
    },
    {
      "cell_type": "code",
      "execution_count": null,
      "id": "73ec632b",
      "metadata": {
        "colab": {
          "base_uri": "https://localhost:8080/"
        },
        "id": "73ec632b",
        "outputId": "0bbc5bb0-c860-4a87-c79c-c15362aef689"
      },
      "outputs": [
        {
          "output_type": "execute_result",
          "data": {
            "text/plain": [
              "age         21.455216\n",
              "others      99.860510\n",
              "accident    32.635049\n",
              "suicide     13.361998\n",
              "dtype: float64"
            ]
          },
          "metadata": {},
          "execution_count": 8
        }
      ],
      "source": [
        "Above_21.mean()"
      ]
    },
    {
      "cell_type": "code",
      "execution_count": null,
      "id": "4e790019",
      "metadata": {
        "colab": {
          "base_uri": "https://localhost:8080/"
        },
        "id": "4e790019",
        "outputId": "836d2ab9-13d2-44a3-ed9b-dd987165a6f6"
      },
      "outputs": [
        {
          "output_type": "execute_result",
          "data": {
            "text/plain": [
              "age         0.910433\n",
              "others      6.541660\n",
              "accident    1.338486\n",
              "suicide     1.719078\n",
              "dtype: float64"
            ]
          },
          "metadata": {},
          "execution_count": 9
        }
      ],
      "source": [
        "treat_effect = Above_21.mean()-Under_21.mean()\n",
        "treat_effect"
      ]
    },
    {
      "cell_type": "markdown",
      "id": "52454fa4",
      "metadata": {
        "id": "52454fa4"
      },
      "source": [
        "There is difference in the chance of death by accident, suicide and others for people above and below the threshold. But we don't know if this difference is statistically significant."
      ]
    },
    {
      "cell_type": "markdown",
      "source": [
        "Graphs to show the discontinuity and to results for the change in chances of death with all the three features (i.e., accident vs age, suicide vs age and others vs age)."
      ],
      "metadata": {
        "id": "hHez9ATuwthZ"
      },
      "id": "hHez9ATuwthZ"
    },
    {
      "cell_type": "code",
      "execution_count": null,
      "id": "103b41f3",
      "metadata": {
        "colab": {
          "base_uri": "https://localhost:8080/",
          "height": 471
        },
        "id": "103b41f3",
        "outputId": "bdd32da7-c4a4-4292-fdf0-488d551890d7"
      },
      "outputs": [
        {
          "output_type": "execute_result",
          "data": {
            "text/plain": [
              "<matplotlib.collections.PathCollection at 0x7f85ef340070>"
            ]
          },
          "metadata": {},
          "execution_count": 10
        },
        {
          "output_type": "execute_result",
          "data": {
            "text/plain": [
              "<matplotlib.collections.PathCollection at 0x7f85ef2ef640>"
            ]
          },
          "metadata": {},
          "execution_count": 10
        },
        {
          "output_type": "execute_result",
          "data": {
            "text/plain": [
              "<matplotlib.legend.Legend at 0x7f85ef2ef250>"
            ]
          },
          "metadata": {},
          "execution_count": 10
        },
        {
          "output_type": "display_data",
          "data": {
            "text/plain": [
              "<Figure size 640x480 with 1 Axes>"
            ],
            "image/png": "[encoded data removed]"
          },
          "metadata": {}
        }
      ],
      "source": [
        "import matplotlib.pyplot as plt\n",
        "plt.scatter(Under_21['age'], Under_21['others'], color='r', label='Under_21')\n",
        "plt.scatter(Above_21['age'], Above_21['others'], color='g', label='Above_21') \n",
        "plt.legend()\n",
        "plt.show()"
      ]
    },
    {
      "cell_type": "code",
      "execution_count": null,
      "id": "10ee3eb3",
      "metadata": {
        "colab": {
          "base_uri": "https://localhost:8080/"
        },
        "id": "10ee3eb3",
        "outputId": "1f6fa1dd-768b-4953-b731-575be590f23f"
      },
      "outputs": [
        {
          "output_type": "execute_result",
          "data": {
            "text/plain": [
              "Ttest_indResult(statistic=array([-6.4050666]), pvalue=array([1.91334081e-06]))"
            ]
          },
          "metadata": {},
          "execution_count": 11
        }
      ],
      "source": [
        "#### Performing 2-Sample t-test on Others Death rate to check whether the difference is statistically significant.\n",
        "import scipy.stats as stats\n",
        "stats.ttest_ind(a=Under_21[['others']].dropna(axis=0).to_numpy(), b=Above_21[['others']].dropna(axis=0).to_numpy(), equal_var=True)"
      ]
    },
    {
      "cell_type": "markdown",
      "metadata": {
        "id": "a3991979"
      },
      "source": [
        "From the plot of others v/s age we can see there is difference in the death due to others for childern above and below the threshold. The difference is statistically significant."
      ],
      "id": "a3991979"
    },
    {
      "cell_type": "code",
      "execution_count": null,
      "id": "74b1cc9d",
      "metadata": {
        "colab": {
          "base_uri": "https://localhost:8080/",
          "height": 466
        },
        "id": "74b1cc9d",
        "outputId": "7fc90aad-20ff-4779-ab4e-0191c5b0afb3"
      },
      "outputs": [
        {
          "output_type": "execute_result",
          "data": {
            "text/plain": [
              "<matplotlib.collections.PathCollection at 0x7f85e55f53a0>"
            ]
          },
          "metadata": {},
          "execution_count": 12
        },
        {
          "output_type": "execute_result",
          "data": {
            "text/plain": [
              "<matplotlib.collections.PathCollection at 0x7f85e55f58e0>"
            ]
          },
          "metadata": {},
          "execution_count": 12
        },
        {
          "output_type": "execute_result",
          "data": {
            "text/plain": [
              "<matplotlib.legend.Legend at 0x7f85e563b550>"
            ]
          },
          "metadata": {},
          "execution_count": 12
        },
        {
          "output_type": "display_data",
          "data": {
            "text/plain": [
              "<Figure size 640x480 with 1 Axes>"
            ],
            "image/png": "[encoded data removed]"
          },
          "metadata": {}
        }
      ],
      "source": [
        "import matplotlib.pyplot as plt\n",
        "plt.scatter(Under_21['age'], Under_21['accident'], color='r', label='Under_21')\n",
        "plt.scatter(Above_21['age'], Above_21['accident'], color='g', label='Above_21') \n",
        "plt.legend()\n",
        "plt.show()"
      ]
    },
    {
      "cell_type": "code",
      "execution_count": null,
      "id": "5c43f166",
      "metadata": {
        "colab": {
          "base_uri": "https://localhost:8080/"
        },
        "id": "5c43f166",
        "outputId": "702fe36d-a232-4e35-9243-2737295c1b29"
      },
      "outputs": [
        {
          "output_type": "execute_result",
          "data": {
            "text/plain": [
              "Ttest_indResult(statistic=array([-1.96849131]), pvalue=array([0.06173871]))"
            ]
          },
          "metadata": {},
          "execution_count": 13
        }
      ],
      "source": [
        "import scipy.stats as stats\n",
        "stats.ttest_ind(a=Under_21[['accident']].dropna(axis=0).to_numpy(), b=Above_21[['accident']].dropna(axis=0).to_numpy(), equal_var=True)"
      ]
    },
    {
      "cell_type": "markdown",
      "metadata": {
        "id": "c2bcc304"
      },
      "source": [
        "From the plot of accident v/s age we can see there is difference in the death due to accident for childern above and below the threshold. The difference is statistically significant at 90% significance level."
      ],
      "id": "c2bcc304"
    },
    {
      "cell_type": "code",
      "execution_count": null,
      "id": "6546569e",
      "metadata": {
        "colab": {
          "base_uri": "https://localhost:8080/",
          "height": 469
        },
        "id": "6546569e",
        "outputId": "f60f5c8b-ea37-4a16-9f9a-57f0fed1ed44"
      },
      "outputs": [
        {
          "output_type": "execute_result",
          "data": {
            "text/plain": [
              "<matplotlib.collections.PathCollection at 0x7f85e5589c40>"
            ]
          },
          "metadata": {},
          "execution_count": 14
        },
        {
          "output_type": "execute_result",
          "data": {
            "text/plain": [
              "<matplotlib.collections.PathCollection at 0x7f85e55991f0>"
            ]
          },
          "metadata": {},
          "execution_count": 14
        },
        {
          "output_type": "execute_result",
          "data": {
            "text/plain": [
              "<matplotlib.legend.Legend at 0x7f86180959d0>"
            ]
          },
          "metadata": {},
          "execution_count": 14
        },
        {
          "output_type": "display_data",
          "data": {
            "text/plain": [
              "<Figure size 640x480 with 1 Axes>"
            ],
            "image/png": "[encoded data removed]"
          },
          "metadata": {}
        }
      ],
      "source": [
        "import matplotlib.pyplot as plt\n",
        "plt.scatter(Under_21['age'], Under_21['suicide'], color='r', label='Under_21')\n",
        "plt.scatter(Above_21['age'], Above_21['suicide'], color='g', label='Above_21') \n",
        "plt.legend()\n",
        "plt.show()"
      ]
    },
    {
      "cell_type": "code",
      "execution_count": null,
      "id": "c3739fe2",
      "metadata": {
        "colab": {
          "base_uri": "https://localhost:8080/"
        },
        "id": "c3739fe2",
        "outputId": "6b10a58a-0649-4ef9-fac4-83c41a528355"
      },
      "outputs": [
        {
          "output_type": "execute_result",
          "data": {
            "text/plain": [
              "Ttest_indResult(statistic=array([-5.09113481]), pvalue=array([4.22627915e-05]))"
            ]
          },
          "metadata": {},
          "execution_count": 15
        }
      ],
      "source": [
        "import scipy.stats as stats\n",
        "stats.ttest_ind(a=Under_21[['suicide']].dropna(axis=0).to_numpy(), b=Above_21[['suicide']].dropna(axis=0).to_numpy(), equal_var=True)"
      ]
    },
    {
      "cell_type": "markdown",
      "id": "b0675789",
      "metadata": {
        "id": "b0675789"
      },
      "source": [
        "From the plot of suicide v/s age we can see there is difference in the death due to suicide for childern above and below the threshold. The difference is statistically significant."
      ]
    },
    {
      "cell_type": "markdown",
      "id": "5ae0135c",
      "metadata": {
        "id": "5ae0135c"
      },
      "source": [
        "We can say that there is some correlation between the deaths above and below the threshold of legal age of drinking. But we cannot draw a causal inference here that the deaths are because of the legal age of drinking being 21. There could be a lot other confounding factors and could not be directly related to alcohol. If at all alcohol is the reason behind it, decreasing the legal age would be even worst decision as the same difference would then be observed between  the age 19-20 and 20-21. We need to first control for the confounding factors, identify the through treatment effect and only then draw inferences."
      ]
    },
    {
      "cell_type": "markdown",
      "id": "b13adba1",
      "metadata": {
        "id": "b13adba1"
      },
      "source": [
        "### Effect of choosing a smaller bandwidth?\n",
        "By choosing a smaller bandwidth, we should observe a larger difference in the group above and below the threshold. This is because by comparing observations lying closely on either side of the threshold, we estimate the marginal treatment effect. The value closer to the threshold are mostly similar in other factors except for the treatment. So if the  smaller bandwidth is choosen we would observe higher treatment effect."
      ]
    },
    {
      "cell_type": "code",
      "execution_count": null,
      "id": "cf0bcae9",
      "metadata": {
        "colab": {
          "base_uri": "https://localhost:8080/"
        },
        "id": "cf0bcae9",
        "outputId": "5194f4a8-a5d1-4756-d33c-a11c3783bf4c"
      },
      "outputs": [
        {
          "output_type": "execute_result",
          "data": {
            "text/plain": [
              "age         0.422702\n",
              "others      8.350254\n",
              "accident    3.384067\n",
              "suicide     1.848369\n",
              "dtype: float64"
            ]
          },
          "metadata": {},
          "execution_count": 17
        }
      ],
      "source": [
        "### Reducing the bandwidth to +- 0.5 years\n",
        "Under_21_new = drinking[(drinking['age'] >= 20.5) & (drinking['age'] < 21)]\n",
        "Above_21_new = drinking[(drinking['age'] >= 21) & (drinking['age'] < 21.5)]\n",
        "Above_21_new.mean()-Under_21_new.mean()"
      ]
    },
    {
      "cell_type": "markdown",
      "id": "0e1bdda4",
      "metadata": {
        "id": "0e1bdda4"
      },
      "source": [
        "We can see that after reducing the bandwidth, the difference between chance of death due to others, accident and suicide has infact increased for above aand below the threshold"
      ]
    },
    {
      "cell_type": "markdown",
      "source": [
        "### Effect of choosing the maximum bandwidth?\n",
        "On contrary if the bandwidth is maximum, we would be calculating the average treatment effect. The differnce is likely to be smaller than the difference when a smaller bandwidth is chosen. But no inferences could be made basis that as for the people farther from the threshold would vary largely across other factors and making a comparison basis that would not be right. In reality the the  interest lies in the population close to the threshold and inferences on them are of value. Choosing the maximum bandwith will not yeild any significant insights. "
      ],
      "metadata": {
        "id": "OX9JdL_q0p3P"
      },
      "id": "OX9JdL_q0p3P"
    },
    {
      "cell_type": "code",
      "execution_count": null,
      "id": "56c56ea1",
      "metadata": {
        "colab": {
          "base_uri": "https://localhost:8080/"
        },
        "id": "56c56ea1",
        "outputId": "7dcf919d-c531-4162-de99-645263fcd2b2"
      },
      "outputs": [
        {
          "output_type": "execute_result",
          "data": {
            "text/plain": [
              "age         1.893699\n",
              "others      5.740044\n",
              "accident   -1.677356\n",
              "suicide     1.436442\n",
              "dtype: float64"
            ]
          },
          "metadata": {},
          "execution_count": 16
        }
      ],
      "source": [
        "### Increasing the bandwidth to maximum\n",
        "Under_21_new = drinking[(drinking['age'] < 21)]\n",
        "Above_21_new = drinking[(drinking['age'] >= 21)]\n",
        "Above_21_new.mean()-Under_21_new.mean()"
      ]
    },
    {
      "cell_type": "markdown",
      "id": "3cf2ee24",
      "metadata": {
        "id": "3cf2ee24"
      },
      "source": [
        "We can see that after increasing the bandwidth to maximum, the differnce between chance of death due to others, and suicide has decreased. For the accidents we are getting a negative value meaning youngsters have higher chances of death than elderly due to accidents."
      ]
    }
  ],
  "metadata": {
    "kernelspec": {
      "display_name": "Python 3",
      "language": "python",
      "name": "python3"
    },
    "language_info": {
      "codemirror_mode": {
        "name": "ipython",
        "version": 3
      },
      "file_extension": ".py",
      "mimetype": "text/x-python",
      "name": "python",
      "nbconvert_exporter": "python",
      "pygments_lexer": "ipython3",
      "version": "3.8.8"
    },
    "colab": {
      "provenance": []
    }
  },
  "nbformat": 4,
  "nbformat_minor": 5
}